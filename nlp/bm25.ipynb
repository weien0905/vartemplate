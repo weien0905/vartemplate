{
  "cells": [
    {
      "cell_type": "code",
      "execution_count": null,
      "metadata": {
        "colab": {
          "base_uri": "https://localhost:8080/"
        },
        "id": "DM6aLjHcfTWb",
        "outputId": "a4e3e71a-d5bb-4cac-d5fb-d516e8358a5f"
      },
      "outputs": [],
      "source": [
        "# Import dataset from Kaggle\n",
        "! pip install -q kaggle\n",
        "! mkdir ~/.kaggle\n",
        "! cp kaggle.json ~/.kaggle/\n",
        "! chmod 600 ~/.kaggle/kaggle.json\n",
        "! kaggle datasets download -d wcukierski/enron-email-dataset"
      ]
    },
    {
      "cell_type": "code",
      "execution_count": null,
      "metadata": {
        "colab": {
          "base_uri": "https://localhost:8080/"
        },
        "id": "6UKLvz_9IIhL",
        "outputId": "32455e1f-84d3-4582-c9ed-fbfeb8179227"
      },
      "outputs": [],
      "source": [
        "# Unzip dataset\n",
        "! unzip enron-email-dataset.zip"
      ]
    },
    {
      "cell_type": "code",
      "execution_count": null,
      "metadata": {
        "id": "AEHpfD3Tpf7c"
      },
      "outputs": [],
      "source": [
        "import pandas as pd"
      ]
    },
    {
      "cell_type": "code",
      "execution_count": null,
      "metadata": {
        "id": "jLF7Ni050Gwv"
      },
      "outputs": [],
      "source": [
        "df = pd.read_csv(r\"/content/emails.csv\")"
      ]
    },
    {
      "cell_type": "code",
      "execution_count": null,
      "metadata": {
        "id": "dJtjGUkX0LvE"
      },
      "outputs": [],
      "source": [
        "# Process data so that it only includes subject and header\n",
        "emails = pd.DataFrame()\n",
        "emails[\"content\"] = df[\"message\"].str.extract(\"Subject: (.+)\\n\")[0].str.strip().fillna(\"\") +\\\n",
        "\"\\n\" +  df[\"message\"].str.split(\"\\n\\n\", 1).str[1].str.strip().fillna(\"\")"
      ]
    },
    {
      "cell_type": "code",
      "execution_count": null,
      "metadata": {
        "id": "FOZdthLFd-_z"
      },
      "outputs": [],
      "source": [
        "import string\n",
        "import nltk\n",
        "import math\n",
        "nltk.download('punkt')\n",
        "nltk.download('stopwords')"
      ]
    },
    {
      "cell_type": "code",
      "execution_count": null,
      "metadata": {
        "colab": {
          "base_uri": "https://localhost:8080/"
        },
        "id": "-pe0cQhBUfOG",
        "outputId": "c39b2484-f408-43fe-fdc3-76d9e9c81d67"
      },
      "outputs": [
        {
          "name": "stdout",
          "output_type": "stream",
          "text": [
            "\n",
            "Lucy,\n",
            "\n",
            "Here is the rentroll.\n",
            "\n",
            "My only questions are about #18, #25, and #37 missed rent.  Any special \n",
            "reasons?\n",
            "\n",
            "It looks like there are five vacancies #2,12,20a,35,40.  If you want to run \n",
            "an ad in the paper with a $50 discount that is fine.\n",
            "I will write you a letter of recommendation.  When do you need it?  You can \n",
            "use me as a reference.  In the next two weeks we should really have a good \n",
            "idea whether the sale is going through.\n",
            "\n",
            "Phillip\n",
            "{'rentroll', 'fine', '18', 'me', 'ad', 'when', 'vacancies', 'only', 'as', 'five', 'use', 'any', 'here', 'lucy', 'reasons', 'to', 'will', 'next', 'whether', 'it', 'my', 'two', 'good', 'do', '.', 'of', 'need', 'there', 'is', 'going', 'an', 'the', '37', 'like', '2,12,20a,35,40', 'a', 'are', 'phillip', 'and', '50', 'should', 'discount', 'in', 'looks', '?', 'rent', 'run', 'write', 'i', 'reference', 'have', 'idea', 'want', 'can', 'paper', 'questions', 'through', '$', 'special', 'we', 'sale', 'that', '25', 'missed', 'recommendation', 'about', 'weeks', ',', 'really', 'you', '#', 'with', 'letter', 'if'}\n"
          ]
        }
      ],
      "source": [
        "# Example\n",
        "x = emails.iloc[1000][\"content\"]\n",
        "print(x)\n",
        "print(set([token.lower() for token in nltk.word_tokenize(x)]))"
      ]
    },
    {
      "cell_type": "code",
      "execution_count": null,
      "metadata": {
        "id": "PjX2A3qSVhd2"
      },
      "outputs": [],
      "source": [
        "N_q = dict()\n",
        "for i, content in enumerate(emails[\"content\"]):\n",
        "  if i % 10000 == 0:\n",
        "    print(i, \"completed\") # Print current completion status\n",
        "  for word in set([token.lower() for token in nltk.word_tokenize(content)]):\n",
        "    word = word.lower()\n",
        "    N_q[word] = N_q.setdefault(word, 0) + 1"
      ]
    },
    {
      "cell_type": "code",
      "execution_count": null,
      "metadata": {
        "colab": {
          "base_uri": "https://localhost:8080/"
        },
        "id": "v3STugt1dP8M",
        "outputId": "e52c1f42-c857-4367-bb96-f769db3b0bcf"
      },
      "outputs": [
        {
          "name": "stdout",
          "output_type": "stream",
          "text": [
            "<class 'pandas.core.frame.DataFrame'>\n",
            "RangeIndex: 517401 entries, 0 to 517400\n",
            "Data columns (total 1 columns):\n",
            " #   Column   Non-Null Count   Dtype \n",
            "---  ------   --------------   ----- \n",
            " 0   content  517401 non-null  object\n",
            "dtypes: object(1)\n",
            "memory usage: 3.9+ MB\n"
          ]
        }
      ],
      "source": [
        "emails.info() # Get number of rows"
      ]
    },
    {
      "cell_type": "code",
      "execution_count": null,
      "metadata": {
        "id": "In-dMRQaYmgn"
      },
      "outputs": [],
      "source": [
        "N = 517401\n",
        "idf = dict()\n",
        "for word in N_q:\n",
        "  idf[word] = math.log((N - N_q[word] + 0.5) / (N_q[word] + 0.5)) + 1"
      ]
    },
    {
      "cell_type": "code",
      "execution_count": null,
      "metadata": {
        "id": "tyYNMEJCPVJp"
      },
      "outputs": [],
      "source": [
        "import json\n",
        "with open('idf.json', 'w') as f:\n",
        "    json.dump(idf, f)"
      ]
    },
    {
      "cell_type": "code",
      "execution_count": null,
      "metadata": {
        "id": "orxX7W_zkb9b"
      },
      "outputs": [],
      "source": []
    }
  ],
  "metadata": {
    "colab": {
      "provenance": []
    },
    "kernelspec": {
      "display_name": "Python 3",
      "name": "python3"
    },
    "language_info": {
      "name": "python"
    }
  },
  "nbformat": 4,
  "nbformat_minor": 0
}
