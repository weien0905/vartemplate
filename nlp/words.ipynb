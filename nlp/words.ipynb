{
  "nbformat": 4,
  "nbformat_minor": 0,
  "metadata": {
    "colab": {
      "provenance": []
    },
    "kernelspec": {
      "name": "python3",
      "display_name": "Python 3"
    },
    "language_info": {
      "name": "python"
    }
  },
  "cells": [
    {
      "cell_type": "code",
      "execution_count": null,
      "metadata": {
        "id": "nOHH3KhPQz0E"
      },
      "outputs": [],
      "source": [
        "import pandas as pd"
      ]
    },
    {
      "cell_type": "code",
      "source": [
        "idf = pd.read_json(r\"/content/idf.json\", typ=\"series\")\n",
        "word2vec = pd.read_json(r\"/content/word2vec.json\", typ=\"series\")"
      ],
      "metadata": {
        "id": "hJBNgppRS30S"
      },
      "execution_count": null,
      "outputs": []
    },
    {
      "cell_type": "code",
      "source": [
        "word2vec"
      ],
      "metadata": {
        "colab": {
          "base_uri": "https://localhost:8080/"
        },
        "id": "BKR7TeZSTDOP",
        "outputId": "9ce6ee03-d280-4b29-b3b9-341c2709c01f"
      },
      "execution_count": null,
      "outputs": [
        {
          "output_type": "execute_result",
          "data": {
            "text/plain": [
              "</s>                                                    []\n",
              ",                                                 [and, .]\n",
              "the                                       [of, and, which]\n",
              ".                                                 [and, ,]\n",
              "of                                              [the, and]\n",
              "                                 ...                      \n",
              "02:34                  [01:41, 02:25, 01:11, 01:36, 01:19]\n",
              "jozef            [karel, piotr, jerzy, miroslav, jaroslav]\n",
              "balliol                                   [eton, magdalen]\n",
              "caterina    [giacomo, francesco, pietro, chiara, vincenzo]\n",
              "02:02                  [01:22, 02:12, 02:11, 01:41, 02:05]\n",
              "Length: 50000, dtype: object"
            ]
          },
          "metadata": {},
          "execution_count": 68
        }
      ]
    },
    {
      "cell_type": "code",
      "source": [
        "idf"
      ],
      "metadata": {
        "colab": {
          "base_uri": "https://localhost:8080/"
        },
        "id": "P97vKzQNT1bf",
        "outputId": "8fc02c73-a4da-4baf-ce52-27f935ba181d"
      },
      "execution_count": null,
      "outputs": [
        {
          "output_type": "execute_result",
          "data": {
            "text/plain": [
              "our                   2.086178\n",
              "is                    0.612379\n",
              "forecast              5.778933\n",
              "here                  2.773351\n",
              "formal                5.781977\n",
              "                       ...    \n",
              "3.2978               13.751107\n",
              "3.7369               13.751107\n",
              "oil-spec-hedge-ng    13.751107\n",
              "mini-prc             13.751107\n",
              "heart-attacks        13.751107\n",
              "Length: 986585, dtype: float64"
            ]
          },
          "metadata": {},
          "execution_count": 69
        }
      ]
    },
    {
      "cell_type": "code",
      "source": [
        "words = pd.concat([word2vec, idf], axis=1, keys=[\"w2v\", \"idf\"])"
      ],
      "metadata": {
        "id": "Q5dHHMEiUCmv"
      },
      "execution_count": null,
      "outputs": []
    },
    {
      "cell_type": "code",
      "source": [
        "words"
      ],
      "metadata": {
        "colab": {
          "base_uri": "https://localhost:8080/",
          "height": 423
        },
        "id": "kwjaLpooWKfx",
        "outputId": "65952868-1065-43e9-ce2c-623eaf85aed8"
      },
      "execution_count": null,
      "outputs": [
        {
          "output_type": "execute_result",
          "data": {
            "text/plain": [
              "                                w2v        idf\n",
              "</s>                             []        NaN\n",
              ",                          [and, .]  -0.586433\n",
              "the                [of, and, which]  -0.442904\n",
              ".                          [and, ,]  -1.299643\n",
              "of                       [the, and]   0.464621\n",
              "...                             ...        ...\n",
              "3.2978                          NaN  13.751107\n",
              "3.7369                          NaN  13.751107\n",
              "oil-spec-hedge-ng               NaN  13.751107\n",
              "mini-prc                        NaN  13.751107\n",
              "heart-attacks                   NaN  13.751107\n",
              "\n",
              "[991705 rows x 2 columns]"
            ],
            "text/html": [
              "\n",
              "  <div id=\"df-dfba3496-273a-485e-a2f5-8edee4896da2\">\n",
              "    <div class=\"colab-df-container\">\n",
              "      <div>\n",
              "<style scoped>\n",
              "    .dataframe tbody tr th:only-of-type {\n",
              "        vertical-align: middle;\n",
              "    }\n",
              "\n",
              "    .dataframe tbody tr th {\n",
              "        vertical-align: top;\n",
              "    }\n",
              "\n",
              "    .dataframe thead th {\n",
              "        text-align: right;\n",
              "    }\n",
              "</style>\n",
              "<table border=\"1\" class=\"dataframe\">\n",
              "  <thead>\n",
              "    <tr style=\"text-align: right;\">\n",
              "      <th></th>\n",
              "      <th>w2v</th>\n",
              "      <th>idf</th>\n",
              "    </tr>\n",
              "  </thead>\n",
              "  <tbody>\n",
              "    <tr>\n",
              "      <th>&lt;/s&gt;</th>\n",
              "      <td>[]</td>\n",
              "      <td>NaN</td>\n",
              "    </tr>\n",
              "    <tr>\n",
              "      <th>,</th>\n",
              "      <td>[and, .]</td>\n",
              "      <td>-0.586433</td>\n",
              "    </tr>\n",
              "    <tr>\n",
              "      <th>the</th>\n",
              "      <td>[of, and, which]</td>\n",
              "      <td>-0.442904</td>\n",
              "    </tr>\n",
              "    <tr>\n",
              "      <th>.</th>\n",
              "      <td>[and, ,]</td>\n",
              "      <td>-1.299643</td>\n",
              "    </tr>\n",
              "    <tr>\n",
              "      <th>of</th>\n",
              "      <td>[the, and]</td>\n",
              "      <td>0.464621</td>\n",
              "    </tr>\n",
              "    <tr>\n",
              "      <th>...</th>\n",
              "      <td>...</td>\n",
              "      <td>...</td>\n",
              "    </tr>\n",
              "    <tr>\n",
              "      <th>3.2978</th>\n",
              "      <td>NaN</td>\n",
              "      <td>13.751107</td>\n",
              "    </tr>\n",
              "    <tr>\n",
              "      <th>3.7369</th>\n",
              "      <td>NaN</td>\n",
              "      <td>13.751107</td>\n",
              "    </tr>\n",
              "    <tr>\n",
              "      <th>oil-spec-hedge-ng</th>\n",
              "      <td>NaN</td>\n",
              "      <td>13.751107</td>\n",
              "    </tr>\n",
              "    <tr>\n",
              "      <th>mini-prc</th>\n",
              "      <td>NaN</td>\n",
              "      <td>13.751107</td>\n",
              "    </tr>\n",
              "    <tr>\n",
              "      <th>heart-attacks</th>\n",
              "      <td>NaN</td>\n",
              "      <td>13.751107</td>\n",
              "    </tr>\n",
              "  </tbody>\n",
              "</table>\n",
              "<p>991705 rows × 2 columns</p>\n",
              "</div>\n",
              "      <button class=\"colab-df-convert\" onclick=\"convertToInteractive('df-dfba3496-273a-485e-a2f5-8edee4896da2')\"\n",
              "              title=\"Convert this dataframe to an interactive table.\"\n",
              "              style=\"display:none;\">\n",
              "        \n",
              "  <svg xmlns=\"http://www.w3.org/2000/svg\" height=\"24px\"viewBox=\"0 0 24 24\"\n",
              "       width=\"24px\">\n",
              "    <path d=\"M0 0h24v24H0V0z\" fill=\"none\"/>\n",
              "    <path d=\"M18.56 5.44l.94 2.06.94-2.06 2.06-.94-2.06-.94-.94-2.06-.94 2.06-2.06.94zm-11 1L8.5 8.5l.94-2.06 2.06-.94-2.06-.94L8.5 2.5l-.94 2.06-2.06.94zm10 10l.94 2.06.94-2.06 2.06-.94-2.06-.94-.94-2.06-.94 2.06-2.06.94z\"/><path d=\"M17.41 7.96l-1.37-1.37c-.4-.4-.92-.59-1.43-.59-.52 0-1.04.2-1.43.59L10.3 9.45l-7.72 7.72c-.78.78-.78 2.05 0 2.83L4 21.41c.39.39.9.59 1.41.59.51 0 1.02-.2 1.41-.59l7.78-7.78 2.81-2.81c.8-.78.8-2.07 0-2.86zM5.41 20L4 18.59l7.72-7.72 1.47 1.35L5.41 20z\"/>\n",
              "  </svg>\n",
              "      </button>\n",
              "      \n",
              "  <style>\n",
              "    .colab-df-container {\n",
              "      display:flex;\n",
              "      flex-wrap:wrap;\n",
              "      gap: 12px;\n",
              "    }\n",
              "\n",
              "    .colab-df-convert {\n",
              "      background-color: #E8F0FE;\n",
              "      border: none;\n",
              "      border-radius: 50%;\n",
              "      cursor: pointer;\n",
              "      display: none;\n",
              "      fill: #1967D2;\n",
              "      height: 32px;\n",
              "      padding: 0 0 0 0;\n",
              "      width: 32px;\n",
              "    }\n",
              "\n",
              "    .colab-df-convert:hover {\n",
              "      background-color: #E2EBFA;\n",
              "      box-shadow: 0px 1px 2px rgba(60, 64, 67, 0.3), 0px 1px 3px 1px rgba(60, 64, 67, 0.15);\n",
              "      fill: #174EA6;\n",
              "    }\n",
              "\n",
              "    [theme=dark] .colab-df-convert {\n",
              "      background-color: #3B4455;\n",
              "      fill: #D2E3FC;\n",
              "    }\n",
              "\n",
              "    [theme=dark] .colab-df-convert:hover {\n",
              "      background-color: #434B5C;\n",
              "      box-shadow: 0px 1px 3px 1px rgba(0, 0, 0, 0.15);\n",
              "      filter: drop-shadow(0px 1px 2px rgba(0, 0, 0, 0.3));\n",
              "      fill: #FFFFFF;\n",
              "    }\n",
              "  </style>\n",
              "\n",
              "      <script>\n",
              "        const buttonEl =\n",
              "          document.querySelector('#df-dfba3496-273a-485e-a2f5-8edee4896da2 button.colab-df-convert');\n",
              "        buttonEl.style.display =\n",
              "          google.colab.kernel.accessAllowed ? 'block' : 'none';\n",
              "\n",
              "        async function convertToInteractive(key) {\n",
              "          const element = document.querySelector('#df-dfba3496-273a-485e-a2f5-8edee4896da2');\n",
              "          const dataTable =\n",
              "            await google.colab.kernel.invokeFunction('convertToInteractive',\n",
              "                                                     [key], {});\n",
              "          if (!dataTable) return;\n",
              "\n",
              "          const docLinkHtml = 'Like what you see? Visit the ' +\n",
              "            '<a target=\"_blank\" href=https://colab.research.google.com/notebooks/data_table.ipynb>data table notebook</a>'\n",
              "            + ' to learn more about interactive tables.';\n",
              "          element.innerHTML = '';\n",
              "          dataTable['output_type'] = 'display_data';\n",
              "          await google.colab.output.renderOutput(dataTable, element);\n",
              "          const docLink = document.createElement('div');\n",
              "          docLink.innerHTML = docLinkHtml;\n",
              "          element.appendChild(docLink);\n",
              "        }\n",
              "      </script>\n",
              "    </div>\n",
              "  </div>\n",
              "  "
            ]
          },
          "metadata": {},
          "execution_count": 71
        }
      ]
    },
    {
      "cell_type": "code",
      "source": [
        "words.loc[\"visit\"]"
      ],
      "metadata": {
        "colab": {
          "base_uri": "https://localhost:8080/"
        },
        "id": "-2v3HtRtWLPf",
        "outputId": "30ed9219-9123-4914-cfba-78765d9a2873"
      },
      "execution_count": null,
      "outputs": [
        {
          "output_type": "execute_result",
          "data": {
            "text/plain": [
              "w2v          []\n",
              "idf    4.091239\n",
              "Name: visit, dtype: object"
            ]
          },
          "metadata": {},
          "execution_count": 72
        }
      ]
    },
    {
      "cell_type": "code",
      "source": [
        "idf[\"visit\"]"
      ],
      "metadata": {
        "colab": {
          "base_uri": "https://localhost:8080/"
        },
        "id": "PNPOXuGuWTWO",
        "outputId": "ba91e20e-449d-4dbb-ad17-6f4d9fe70042"
      },
      "execution_count": null,
      "outputs": [
        {
          "output_type": "execute_result",
          "data": {
            "text/plain": [
              "4.091239478083535"
            ]
          },
          "metadata": {},
          "execution_count": 73
        }
      ]
    },
    {
      "cell_type": "code",
      "source": [
        "word2vec[\"visit\"]"
      ],
      "metadata": {
        "colab": {
          "base_uri": "https://localhost:8080/"
        },
        "id": "g9_oeZLPWZtG",
        "outputId": "18a76660-a243-42cc-9eed-db6280fc1376"
      },
      "execution_count": null,
      "outputs": [
        {
          "output_type": "execute_result",
          "data": {
            "text/plain": [
              "[]"
            ]
          },
          "metadata": {},
          "execution_count": 74
        }
      ]
    },
    {
      "cell_type": "code",
      "source": [
        "import math\n",
        "na_value = math.log((517401 - 0 + 0.5) / (0 + 0.5)) + 1"
      ],
      "metadata": {
        "id": "MkqhUMCIWdIO"
      },
      "execution_count": null,
      "outputs": []
    },
    {
      "cell_type": "code",
      "source": [
        "words[\"idf\"] = words[\"idf\"].fillna(value=na_value)"
      ],
      "metadata": {
        "id": "y062-YYkggtF"
      },
      "execution_count": null,
      "outputs": []
    },
    {
      "cell_type": "code",
      "source": [
        "words.dropna(inplace=True)"
      ],
      "metadata": {
        "id": "s0AwJvnxg-mC"
      },
      "execution_count": null,
      "outputs": []
    },
    {
      "cell_type": "code",
      "source": [
        "words.to_json(\"words.json\", orient=\"index\")"
      ],
      "metadata": {
        "id": "VWB6CicYhjiD"
      },
      "execution_count": null,
      "outputs": []
    },
    {
      "cell_type": "code",
      "source": [],
      "metadata": {
        "id": "fDMlwvPMkybp"
      },
      "execution_count": null,
      "outputs": []
    }
  ]
}