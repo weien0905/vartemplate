{
  "cells": [
    {
      "cell_type": "code",
      "execution_count": null,
      "metadata": {
        "id": "5TXB2EDsqSWE"
      },
      "outputs": [],
      "source": [
        "import numpy as np\n",
        "\n",
        "# Using data from CS50 AI\n",
        "with open(\"words.txt\", encoding=\"utf-8\") as f:\n",
        "    words = dict()\n",
        "    for i in range(50000):\n",
        "        row = next(f).split()\n",
        "        word = row[0]\n",
        "        vector = np.array([float(x) for x in row[1:]])\n",
        "        words[word] = vector"
      ]
    },
    {
      "cell_type": "code",
      "execution_count": null,
      "metadata": {
        "id": "0ckSws_1uPnN"
      },
      "outputs": [],
      "source": [
        "wordlist = []\n",
        "vectorlist = []\n",
        "\n",
        "for word in words:\n",
        "  wordlist.append(word)\n",
        "  vectorlist.append(words[word])"
      ]
    },
    {
      "cell_type": "code",
      "execution_count": null,
      "metadata": {
        "id": "HUEMgp4luUJN"
      },
      "outputs": [],
      "source": [
        "from gensim.models.keyedvectors import WordEmbeddingsKeyedVectors\n",
        "vector_length = 100\n",
        "kv = WordEmbeddingsKeyedVectors(vector_length)\n",
        "kv.add(wordlist, vectorlist)"
      ]
    },
    {
      "cell_type": "code",
      "execution_count": null,
      "metadata": {
        "colab": {
          "base_uri": "https://localhost:8080/"
        },
        "id": "F3U56rBsvcuE",
        "outputId": "c9ec36f9-dae3-489d-d9c8-ef5c343b06e8"
      },
      "outputs": [
        {
          "data": {
            "text/plain": [
              "[('visiting', 0.6991391777992249),\n",
              " ('visits', 0.6901640892028809),\n",
              " ('visited', 0.682191014289856),\n",
              " ('website', 0.6465949416160583),\n",
              " ('trip', 0.6421259641647339),\n",
              " ('itinerary', 0.6205871105194092),\n",
              " ('site', 0.6179834008216858),\n",
              " ('visitors', 0.6174341440200806),\n",
              " ('invite', 0.6162756681442261),\n",
              " ('webpage', 0.6120032072067261)]"
            ]
          },
          "execution_count": 4,
          "metadata": {},
          "output_type": "execute_result"
        }
      ],
      "source": [
        "kv.most_similar(\"visit\")"
      ]
    },
    {
      "cell_type": "code",
      "execution_count": null,
      "metadata": {
        "colab": {
          "base_uri": "https://localhost:8080/"
        },
        "id": "E1ZMMRGivf8U",
        "outputId": "a3dd6b6a-345a-46ec-e0a8-9f1f2edb387a"
      },
      "outputs": [],
      "source": [
        "topn = 5\n",
        "threshold = 0.8\n",
        "\n",
        "w = dict()\n",
        "\n",
        "for word in list(kv.wv.vocab):\n",
        "  data = kv.most_similar(word, topn=topn)\n",
        "  n = []\n",
        "\n",
        "  for pair in data:\n",
        "    if pair[1] > threshold:\n",
        "      n.append(pair[0])\n",
        "  w[word] = n"
      ]
    },
    {
      "cell_type": "code",
      "execution_count": null,
      "metadata": {
        "id": "FbqcKVS2ywEW"
      },
      "outputs": [],
      "source": [
        "import json\n",
        "with open('word2vec.json', 'w') as f:\n",
        "    json.dump(w, f)"
      ]
    },
    {
      "cell_type": "code",
      "execution_count": null,
      "metadata": {
        "id": "5ybvFr1r6ymu"
      },
      "outputs": [],
      "source": [
        "\n"
      ]
    }
  ],
  "metadata": {
    "colab": {
      "provenance": []
    },
    "kernelspec": {
      "display_name": "Python 3",
      "language": "python",
      "name": "python3"
    },
    "language_info": {
      "name": "python",
      "version": "3.8.4"
    },
    "vscode": {
      "interpreter": {
        "hash": "ae16a96373443d0239419dcd3260131a20ccb8307de92684e54670192172be65"
      }
    }
  },
  "nbformat": 4,
  "nbformat_minor": 0
}
